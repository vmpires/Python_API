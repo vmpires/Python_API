{
 "cells": [
  {
   "cell_type": "code",
   "execution_count": 2,
   "metadata": {},
   "outputs": [],
   "source": [
    "import requests\n",
    "import pandas as pd\n",
    "from IPython.display import display"
   ]
  },
  {
   "cell_type": "code",
   "execution_count": 12,
   "metadata": {},
   "outputs": [],
   "source": [
    "urlpais = (f\"https://covid19-brazil-api.now.sh/api/report/v1/countries\")\n",
    "responsepais = requests.get(urlpais)\n",
    "contentpais = responsepais.json()"
   ]
  },
  {
   "cell_type": "code",
   "execution_count": 29,
   "metadata": {
    "scrolled": true
   },
   "outputs": [
    {
     "data": {
      "text/html": [
       "<div>\n",
       "<style scoped>\n",
       "    .dataframe tbody tr th:only-of-type {\n",
       "        vertical-align: middle;\n",
       "    }\n",
       "\n",
       "    .dataframe tbody tr th {\n",
       "        vertical-align: top;\n",
       "    }\n",
       "\n",
       "    .dataframe thead th {\n",
       "        text-align: right;\n",
       "    }\n",
       "</style>\n",
       "<table border=\"1\" class=\"dataframe\">\n",
       "  <thead>\n",
       "    <tr style=\"text-align: right;\">\n",
       "      <th></th>\n",
       "      <th>País</th>\n",
       "      <th>Mortes</th>\n",
       "    </tr>\n",
       "  </thead>\n",
       "  <tbody>\n",
       "    <tr>\n",
       "      <th>6</th>\n",
       "      <td>Argentina</td>\n",
       "      <td>115989</td>\n",
       "    </tr>\n",
       "    <tr>\n",
       "      <th>23</th>\n",
       "      <td>Brazil</td>\n",
       "      <td>607922</td>\n",
       "    </tr>\n",
       "    <tr>\n",
       "      <th>37</th>\n",
       "      <td>Colombia</td>\n",
       "      <td>127311</td>\n",
       "    </tr>\n",
       "    <tr>\n",
       "      <th>62</th>\n",
       "      <td>France</td>\n",
       "      <td>118632</td>\n",
       "    </tr>\n",
       "    <tr>\n",
       "      <th>66</th>\n",
       "      <td>Germany</td>\n",
       "      <td>95767</td>\n",
       "    </tr>\n",
       "    <tr>\n",
       "      <th>79</th>\n",
       "      <td>India</td>\n",
       "      <td>458437</td>\n",
       "    </tr>\n",
       "    <tr>\n",
       "      <th>80</th>\n",
       "      <td>Indonesia</td>\n",
       "      <td>143423</td>\n",
       "    </tr>\n",
       "    <tr>\n",
       "      <th>81</th>\n",
       "      <td>Iran</td>\n",
       "      <td>126456</td>\n",
       "    </tr>\n",
       "    <tr>\n",
       "      <th>85</th>\n",
       "      <td>Italy</td>\n",
       "      <td>132120</td>\n",
       "    </tr>\n",
       "    <tr>\n",
       "      <th>115</th>\n",
       "      <td>Mexico</td>\n",
       "      <td>288365</td>\n",
       "    </tr>\n",
       "    <tr>\n",
       "      <th>138</th>\n",
       "      <td>Peru</td>\n",
       "      <td>200246</td>\n",
       "    </tr>\n",
       "    <tr>\n",
       "      <th>140</th>\n",
       "      <td>Poland</td>\n",
       "      <td>77012</td>\n",
       "    </tr>\n",
       "    <tr>\n",
       "      <th>144</th>\n",
       "      <td>Russia</td>\n",
       "      <td>235318</td>\n",
       "    </tr>\n",
       "    <tr>\n",
       "      <th>162</th>\n",
       "      <td>South Africa</td>\n",
       "      <td>89179</td>\n",
       "    </tr>\n",
       "    <tr>\n",
       "      <th>164</th>\n",
       "      <td>Spain</td>\n",
       "      <td>87368</td>\n",
       "    </tr>\n",
       "    <tr>\n",
       "      <th>181</th>\n",
       "      <td>Turkey</td>\n",
       "      <td>70828</td>\n",
       "    </tr>\n",
       "    <tr>\n",
       "      <th>182</th>\n",
       "      <td>US</td>\n",
       "      <td>746977</td>\n",
       "    </tr>\n",
       "    <tr>\n",
       "      <th>184</th>\n",
       "      <td>Ukraine</td>\n",
       "      <td>72402</td>\n",
       "    </tr>\n",
       "    <tr>\n",
       "      <th>186</th>\n",
       "      <td>United Kingdom</td>\n",
       "      <td>141095</td>\n",
       "    </tr>\n",
       "  </tbody>\n",
       "</table>\n",
       "</div>"
      ],
      "text/plain": [
       "               País  Mortes\n",
       "6         Argentina  115989\n",
       "23           Brazil  607922\n",
       "37         Colombia  127311\n",
       "62           France  118632\n",
       "66          Germany   95767\n",
       "79            India  458437\n",
       "80        Indonesia  143423\n",
       "81             Iran  126456\n",
       "85            Italy  132120\n",
       "115          Mexico  288365\n",
       "138            Peru  200246\n",
       "140          Poland   77012\n",
       "144          Russia  235318\n",
       "162    South Africa   89179\n",
       "164           Spain   87368\n",
       "181          Turkey   70828\n",
       "182              US  746977\n",
       "184         Ukraine   72402\n",
       "186  United Kingdom  141095"
      ]
     },
     "metadata": {},
     "output_type": "display_data"
    }
   ],
   "source": [
    "listapaises = []\n",
    "listamortes = []\n",
    "for item in contentpais['data']:\n",
    "    listapaises.append(item['country'])\n",
    "    listamortes.append(item['deaths'])\n",
    "\n",
    "df = pd.DataFrame({\n",
    "    \"País\": listapaises,\n",
    "    \"Mortes\": listamortes\n",
    "})\n",
    "\n",
    "above50k = df[df['Mortes'] > 50000]\n",
    "above50k.sort_values(axis=0, by=[\"Mortes\"])\n",
    "display(above50k)"
   ]
  },
  {
   "cell_type": "markdown",
   "metadata": {},
   "source": [
    "## Juntando tabelas externas"
   ]
  },
  {
   "cell_type": "code",
   "execution_count": 10,
   "metadata": {},
   "outputs": [],
   "source": [
    "df1 = pd.read_excel(\"1º Turno/rodadas1-8.xlsx\", sheet_name=\"tabestbr2021\")\n",
    "    \n",
    "df2 = pd.read_excel(\"1º Turno/rodadas9-17.xlsx\", sheet_name=\"tabestbr2021\")\n",
    "\n",
    "df3 = pd.read_excel(\"1º Turno/rodadas18-19.xlsx\", sheet_name=\"tabestbr2021\")\n",
    "\n",
    "frames = [df1, df2, df3]\n",
    "\n",
    "result = pd.concat(frames)"
   ]
  },
  {
   "cell_type": "code",
   "execution_count": 12,
   "metadata": {},
   "outputs": [],
   "source": [
    "result.to_excel(\"TabEst1Turno.xlsx\", sheet_name=\"tabestbr2021_1t\", index=False)"
   ]
  },
  {
   "cell_type": "markdown",
   "metadata": {},
   "source": [
    "## Aplicando análise de dados"
   ]
  },
  {
   "cell_type": "code",
   "execution_count": 14,
   "metadata": {},
   "outputs": [
    {
     "data": {
      "image/png": "[encoded data removed]",
      "text/plain": [
       "<Figure size 432x288 with 2 Axes>"
      ]
     },
     "metadata": {
      "needs_background": "light"
     },
     "output_type": "display_data"
    }
   ],
   "source": [
    "import matplotlib.pyplot as plt\n",
    "import seaborn as sns\n",
    "\n",
    "sns.heatmap(result.corr(), annot=True, cmap=\"cool\")\n",
    "plt.show()"
   ]
  }
 ],
 "metadata": {
  "kernelspec": {
   "display_name": "Python 3",
   "language": "python",
   "name": "python3"
  },
  "language_info": {
   "codemirror_mode": {
    "name": "ipython",
    "version": 3
   },
   "file_extension": ".py",
   "mimetype": "text/x-python",
   "name": "python",
   "nbconvert_exporter": "python",
   "pygments_lexer": "ipython3",
   "version": "3.8.5"
  }
 },
 "nbformat": 4,
 "nbformat_minor": 4
}
